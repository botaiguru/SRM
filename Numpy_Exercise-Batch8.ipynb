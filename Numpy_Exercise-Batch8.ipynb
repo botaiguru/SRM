{
 "cells": [
  {
   "cell_type": "markdown",
   "metadata": {},
   "source": [
    "# Numpy Exercise  <img src = \"numpy1.png\">\n",
    "###### Authored by T.K.Senthil Kumar"
   ]
  },
  {
   "cell_type": "markdown",
   "metadata": {},
   "source": [
    "#### 1. Create a numpy array with the number of elements equals your age. The value of array elements is a random number between 10 to your age "
   ]
  },
  {
   "cell_type": "code",
   "execution_count": 1,
   "metadata": {},
   "outputs": [
    {
     "name": "stdout",
     "output_type": "stream",
     "text": [
      "Please input your age:45\n",
      "Printing 45 numbers between the range 10 to 45 :\n",
      "[13 30 17 13 42 43 11 20 16 17 27 35 18 13 19 34 16 20 40 14 16 14 30 32\n",
      " 25 16 29 40 16 18 12 42 35 29 27 35 35 29 17 43 29 13 16 12 30]\n"
     ]
    }
   ],
   "source": [
    "#Solution\n",
    "import numpy as np\n",
    "\n",
    "age = input('Please input your age:')\n",
    "ar=np.random.randint(10,age,int(age))\n",
    "print('Printing',age,'numbers between the range 10 to',age,':')\n",
    "print(ar)\n",
    "\n",
    "\n"
   ]
  },
  {
   "cell_type": "markdown",
   "metadata": {},
   "source": [
    "#### 2. Create a numpy array between 1 to 50 with the span(space) of 2 and print the length of the array"
   ]
  },
  {
   "cell_type": "code",
   "execution_count": 2,
   "metadata": {},
   "outputs": [
    {
     "name": "stdout",
     "output_type": "stream",
     "text": [
      "Elements in the Array: [ 1  3  5  7  9 11 13 15 17 19 21 23 25 27 29 31 33 35 37 39 41 43 45 47\n",
      " 49]\n",
      "Length of the numpy array ar is: 25\n"
     ]
    }
   ],
   "source": [
    "# Solution\n",
    "ar = np.arange(1,50,2)\n",
    "print('Elements in the Array:',ar)\n",
    "print('Length of the numpy array ar is:',len(ar))\n",
    "\n",
    "\n"
   ]
  },
  {
   "cell_type": "markdown",
   "metadata": {},
   "source": [
    "#### 3. Create an equally spaced numpy array with 27 elements between 4 and 7 "
   ]
  },
  {
   "cell_type": "code",
   "execution_count": 3,
   "metadata": {},
   "outputs": [
    {
     "name": "stdout",
     "output_type": "stream",
     "text": [
      "Elements of Array are:\n",
      " [4.         4.11538462 4.23076923 4.34615385 4.46153846 4.57692308\n",
      " 4.69230769 4.80769231 4.92307692 5.03846154 5.15384615 5.26923077\n",
      " 5.38461538 5.5        5.61538462 5.73076923 5.84615385 5.96153846\n",
      " 6.07692308 6.19230769 6.30769231 6.42307692 6.53846154 6.65384615\n",
      " 6.76923077 6.88461538 7.        ]\n"
     ]
    }
   ],
   "source": [
    "# Solution\n",
    "ar = np.linspace(4,7,27)\n",
    "print('Elements of Array are:\\n',ar)\n",
    "\n"
   ]
  },
  {
   "cell_type": "markdown",
   "metadata": {},
   "source": [
    "#### 4. Create a matrix of size (5 x 4) with random numbers and round off the each elements by only 2 fractional points."
   ]
  },
  {
   "cell_type": "code",
   "execution_count": 4,
   "metadata": {},
   "outputs": [
    {
     "name": "stdout",
     "output_type": "stream",
     "text": [
      "Elements of a 5 x 4 array rounded off to two decimal places:\n",
      "\n",
      " [[0.32 0.7  0.72 0.45]\n",
      " [0.59 0.67 0.89 0.74]\n",
      " [0.12 0.26 0.56 0.63]\n",
      " [0.03 0.42 0.28 1.  ]\n",
      " [0.36 0.87 0.31 0.7 ]]\n"
     ]
    }
   ],
   "source": [
    "# Solution\n",
    "ar= np.random.rand(5,4).round(2)\n",
    "print('Elements of a 5 x 4 array rounded off to two decimal places:\\n\\n',ar)\n"
   ]
  },
  {
   "cell_type": "markdown",
   "metadata": {},
   "source": [
    "#### 5. Create a matrix of size (5x5) with random integers between 5 to 15"
   ]
  },
  {
   "cell_type": "code",
   "execution_count": 5,
   "metadata": {},
   "outputs": [
    {
     "name": "stdout",
     "output_type": "stream",
     "text": [
      "Elements of a 5 x 5 array of integers between 5 and 15:\n",
      "\n",
      " [[14  5 10 11  9]\n",
      " [ 6  9  9 14 14]\n",
      " [ 7 10 10 11  5]\n",
      " [12 10 14  8  9]\n",
      " [10  9 14  7 12]]\n"
     ]
    }
   ],
   "source": [
    "# Solution\n",
    "\n",
    "ar= np.random.randint(5,15,(5,5))\n",
    "print('Elements of a 5 x 5 array of integers between 5 and 15:\\n\\n',ar)\n"
   ]
  },
  {
   "cell_type": "markdown",
   "metadata": {},
   "source": [
    "#### 6. Create the one dimensional array of zeros of random length below 20 with the data type int32"
   ]
  },
  {
   "cell_type": "code",
   "execution_count": 40,
   "metadata": {},
   "outputs": [
    {
     "name": "stdout",
     "output_type": "stream",
     "text": [
      "Random value: 10\n",
      "\n",
      " [0 0 0 0 0 0 0 0 0 0]\n"
     ]
    }
   ],
   "source": [
    "# Solution\n",
    "ar= np.random.randint(0,20)\n",
    "print('Random value:',ar)\n",
    "ar=np.zeros((ar,), dtype=int)\n",
    "print('\\n',ar)\n",
    "\n"
   ]
  },
  {
   "cell_type": "markdown",
   "metadata": {},
   "source": [
    "#### 7. Create a two dimensional array of ones of random row and column lengths with the data type of float32 "
   ]
  },
  {
   "cell_type": "code",
   "execution_count": 42,
   "metadata": {},
   "outputs": [
    {
     "name": "stdout",
     "output_type": "stream",
     "text": [
      "Random no. of rows and columns are: 2 , 4\n",
      "\n",
      " [[1. 1. 1. 1.]\n",
      " [1. 1. 1. 1.]]\n"
     ]
    }
   ],
   "source": [
    "# Solution\n",
    "ar_row= np.random.randint(1,5)\n",
    "ar_column= np.random.randint(1,5)\n",
    "print('Random no. of rows and columns are:',ar_row,',',ar_column)\n",
    "ar=np.ones((ar_row,ar_column), dtype=float)\n",
    "print('\\n',ar)\n",
    "\n"
   ]
  },
  {
   "cell_type": "markdown",
   "metadata": {},
   "source": [
    "#### 8. Create a matrix exactly as same as shown below and print its shape, type and dtype\n",
    "<img src = \"np_mat1.png\">"
   ]
  },
  {
   "cell_type": "code",
   "execution_count": 43,
   "metadata": {},
   "outputs": [
    {
     "name": "stdout",
     "output_type": "stream",
     "text": [
      "Given matrix:\n",
      " [[ 9 25 50 34 45]\n",
      " [ 3 34 34 65  2]\n",
      " [ 5  7  3 76  3]\n",
      " [ 7  8  6  5  6]\n",
      " [23 12  8  5  8]]\n",
      "\n",
      "Shape of the Matrix: (5, 5)\n",
      "\n",
      "Type: <class 'numpy.ndarray'>\n",
      "\n",
      "dtype: int32\n"
     ]
    }
   ],
   "source": [
    "# Solution\n",
    "matrix1 = np.array([[9,25,50,34,45],[3,34,34,65,2],[5,7,3,76,3],[7,8,6,5,6],[23,12,8,5,8]])\n",
    "print('Given matrix:\\n',matrix1)\n",
    "print('\\nShape of the Matrix:',matrix1.shape)\n",
    "print('\\nType:',type(matrix1))\n",
    "print('\\ndtype:',matrix1.dtype)\n"
   ]
  },
  {
   "cell_type": "markdown",
   "metadata": {},
   "source": [
    "#### 9. Access the center pixel of the matrix defined in the question no 8 ( Don't enter the row and column index explicitely)"
   ]
  },
  {
   "cell_type": "code",
   "execution_count": 45,
   "metadata": {},
   "outputs": [
    {
     "name": "stdout",
     "output_type": "stream",
     "text": [
      "Given matrix:\n",
      " [[ 9 25 50 34 45]\n",
      " [ 3 34 34 65  2]\n",
      " [ 5  7  3 76  3]\n",
      " [ 7  8  6  5  6]\n",
      " [23 12  8  5  8]]\n",
      "\n",
      "No. of Rows: 5\n",
      "No. of Columns: 5\n",
      "Center element of the given matrix is: 3\n"
     ]
    }
   ],
   "source": [
    "# Solution\n",
    "import math \n",
    "\n",
    "mrows = len(matrix1)\n",
    "mcolumns = len(matrix1[0])\n",
    "\n",
    "print('Given matrix:\\n',matrix1)\n",
    "print('\\nNo. of Rows:',mrows)\n",
    "print('No. of Columns:',mcolumns)\n",
    "print('Center element of the given matrix is:',matrix1[math.floor(mrows/2)][math.floor(mcolumns/2)])\n",
    "\n"
   ]
  },
  {
   "cell_type": "markdown",
   "metadata": {},
   "source": [
    "#### 10. Print the all the elements of 3rd row of the matrix"
   ]
  },
  {
   "cell_type": "code",
   "execution_count": 10,
   "metadata": {},
   "outputs": [
    {
     "name": "stdout",
     "output_type": "stream",
     "text": [
      "3rd Row elements: [ 5  7  3 76  3]\n"
     ]
    }
   ],
   "source": [
    "# Solution\n",
    "print('3rd Row elements:',matrix1[2])\n",
    "\n"
   ]
  },
  {
   "cell_type": "markdown",
   "metadata": {},
   "source": [
    "#### 11. Print the all the elements of 4th columns of the matrix"
   ]
  },
  {
   "cell_type": "code",
   "execution_count": 11,
   "metadata": {},
   "outputs": [
    {
     "name": "stdout",
     "output_type": "stream",
     "text": [
      "4th Column elements: [34 65 76  5  5]\n"
     ]
    }
   ],
   "source": [
    "# Solution\n",
    "print('4th Column elements:',matrix1[:,3])\n",
    "\n"
   ]
  },
  {
   "cell_type": "markdown",
   "metadata": {},
   "source": [
    "#### 12. Print the 4 corner pixels of the matrix"
   ]
  },
  {
   "cell_type": "code",
   "execution_count": 47,
   "metadata": {},
   "outputs": [
    {
     "name": "stdout",
     "output_type": "stream",
     "text": [
      "Given matrix:\n",
      " [[ 9 25 50 34 45]\n",
      " [ 3 34 34 65  2]\n",
      " [ 5  7  3 76  3]\n",
      " [ 7  8  6  5  6]\n",
      " [23 12  8  5  8]]\n",
      "\n",
      "Corner elements of the given matrix: 9 45 23 8\n"
     ]
    }
   ],
   "source": [
    "# Solution\n",
    "mrows = len(matrix1)\n",
    "mcolumns = len(matrix1[0])\n",
    "\n",
    "print('Given matrix:\\n',matrix1)\n",
    "print('\\nCorner elements of the given matrix:',matrix1[0][0],matrix1[0][mcolumns-1],matrix1[mrows-1][0],matrix1[mrows-1][mcolumns-1])\n",
    "\n"
   ]
  },
  {
   "cell_type": "markdown",
   "metadata": {},
   "source": [
    "#### 13. Create three matrix m1,m2,m3 with the elements grouped in the figure below\n",
    "<img src = \"np_mat2.png\">"
   ]
  },
  {
   "cell_type": "code",
   "execution_count": 48,
   "metadata": {},
   "outputs": [
    {
     "name": "stdout",
     "output_type": "stream",
     "text": [
      "Matrix m1:\n",
      " [[50 34]\n",
      " [34 65]]\n",
      "\n",
      "Matrix m2:\n",
      " [[ 7  8]\n",
      " [23 12]]\n",
      "\n",
      "Matrix m3:\n",
      " [[ 3 76  3]\n",
      " [ 6  5  6]\n",
      " [ 8  5  8]]\n"
     ]
    }
   ],
   "source": [
    "# Solution \n",
    "m1 = matrix1[0:2,2:4]\n",
    "print('Matrix m1:\\n', m1)\n",
    "m2 = matrix1[3:5,0:2]\n",
    "print('\\nMatrix m2:\\n', m2)\n",
    "m3 = matrix1[2:5,2:5]\n",
    "print('\\nMatrix m3:\\n', m3)"
   ]
  },
  {
   "cell_type": "markdown",
   "metadata": {},
   "source": [
    "#### 14. Reshape all the three matrix segmented in the above task in to three  1-dimensional vector."
   ]
  },
  {
   "cell_type": "code",
   "execution_count": 49,
   "metadata": {},
   "outputs": [
    {
     "name": "stdout",
     "output_type": "stream",
     "text": [
      "Matrix m1:\n",
      " [[50 34]\n",
      " [34 65]]\n",
      "One Dimeensional vector m1:\n",
      " [[50 34 34 65]]\n",
      "\n",
      "Matrix m2:\n",
      " [[ 7  8]\n",
      " [23 12]]\n",
      "One Dimeensional vector m2:\n",
      " [[ 7  8 23 12]]\n",
      "\n",
      "Matrix m3:\n",
      " [[ 3 76  3]\n",
      " [ 6  5  6]\n",
      " [ 8  5  8]]\n",
      "One Dimeensional vector m3:\n",
      " [[ 3 76  3  6  5  6  8  5  8]]\n"
     ]
    }
   ],
   "source": [
    "# Solution\n",
    "print('Matrix m1:\\n', m1)\n",
    "m11 = m1.reshape(1,m1.size)\n",
    "print('One Dimeensional vector m1:\\n',m11)\n",
    "\n",
    "print('\\nMatrix m2:\\n', m2)\n",
    "m21 = m2.reshape(1,m2.size)\n",
    "print('One Dimeensional vector m2:\\n',m21)\n",
    "\n",
    "print('\\nMatrix m3:\\n', m3)\n",
    "m31 = m3.reshape(1,m3.size)\n",
    "print('One Dimeensional vector m3:\\n',m31)\n"
   ]
  },
  {
   "cell_type": "markdown",
   "metadata": {},
   "source": [
    "#### 15. Concatenate the matrix m1 and m2 in both vertical and horizontal direction"
   ]
  },
  {
   "cell_type": "code",
   "execution_count": 50,
   "metadata": {},
   "outputs": [
    {
     "name": "stdout",
     "output_type": "stream",
     "text": [
      "Matrix m1:\t\t\tMatrix m2:\n",
      "[50 34] \t\t\t [7 8]\n",
      "[34 65] \t\t\t [23 12]\n",
      "\n",
      "Horizontal Concatenation:\n",
      " [[50 34  7  8]\n",
      " [34 65 23 12]]\n",
      "\n",
      "Vertical Concatenation:\n",
      " [[50 34]\n",
      " [34 65]\n",
      " [ 7  8]\n",
      " [23 12]]\n"
     ]
    }
   ],
   "source": [
    "# Solution\n",
    "print('Matrix m1:\\t\\t\\tMatrix m2:')\n",
    "print(m1[0,:],'\\t\\t\\t',m2[0,:])\n",
    "print(m1[1,:],'\\t\\t\\t',m2[1,:])\n",
    "\n",
    "horizontal_matrix = np.concatenate((m1, m2), axis=1)\n",
    "print('\\nHorizontal Concatenation:\\n',horizontal_matrix)\n",
    "\n",
    "vertical_matrix = np.concatenate((m1, m2), axis=0)\n",
    "print('\\nVertical Concatenation:\\n',vertical_matrix)\n",
    "\n"
   ]
  },
  {
   "cell_type": "markdown",
   "metadata": {},
   "source": [
    "#### 16. Add, Subtract, multiply, divide the matrixes m1 and m2"
   ]
  },
  {
   "cell_type": "code",
   "execution_count": 51,
   "metadata": {},
   "outputs": [
    {
     "name": "stdout",
     "output_type": "stream",
     "text": [
      "Matrix m1:\t\t\tMatrix m2:\n",
      "[50 34] \t\t\t [7 8]\n",
      "[34 65] \t\t\t [23 12]\n",
      "\n",
      "Matrix Addition: m1 + m2\n",
      "[[57 42]\n",
      " [57 77]]\n",
      "\n",
      "Matrix Subtraction: m1 - m2\n",
      "[[43 26]\n",
      " [11 53]]\n",
      "\n",
      "Matrix Multiplication: m1 * m2\n",
      "[[350 272]\n",
      " [782 780]]\n",
      "\n",
      "Matrix Division: m1 / m2\n",
      "[[7.14 4.25]\n",
      " [1.48 5.42]]\n"
     ]
    }
   ],
   "source": [
    "# Solution\n",
    "print('Matrix m1:\\t\\t\\tMatrix m2:')\n",
    "print(m1[0,:],'\\t\\t\\t',m2[0,:])\n",
    "print(m1[1,:],'\\t\\t\\t',m2[1,:])\n",
    "print('\\nMatrix Addition: m1 + m2')\n",
    "print(np.add(m1,m2))\n",
    "\n",
    "print('\\nMatrix Subtraction: m1 - m2')\n",
    "print(np.subtract(m1,m2))\n",
    "\n",
    "print('\\nMatrix Multiplication: m1 * m2')\n",
    "print(np.multiply(m1,m2))\n",
    "\n",
    "print('\\nMatrix Division: m1 / m2')\n",
    "print(np.divide(m1,m2).round(2))\n",
    "\n"
   ]
  },
  {
   "cell_type": "markdown",
   "metadata": {},
   "source": [
    "#### 17. Add the m1 with m3 by removing the first row and last column of m3"
   ]
  },
  {
   "cell_type": "code",
   "execution_count": 52,
   "metadata": {},
   "outputs": [
    {
     "name": "stdout",
     "output_type": "stream",
     "text": [
      "Matrix m3:\n",
      " [[ 3 76  3]\n",
      " [ 6  5  6]\n",
      " [ 8  5  8]]\n",
      "\n",
      "Matrix m3 after removing first row and last column:\n",
      " [[6 5]\n",
      " [8 5]]\n",
      "\n",
      "Matrix m1:\t\t\tMatrix m3:\n",
      "[50 34] \t\t\t [6 5]\n",
      "[34 65] \t\t\t [8 5]\n",
      "\n",
      "Matrix Addition: m1 + m3\n",
      "[[56 39]\n",
      " [42 70]]\n"
     ]
    }
   ],
   "source": [
    "# Solution\n",
    "print('Matrix m3:\\n',m3)\n",
    "m3 = np.delete(np.delete(m3,0,axis=0),2,axis=1)\n",
    "\n",
    "print('\\nMatrix m3 after removing first row and last column:\\n',m3)\n",
    "\n",
    "print('\\nMatrix m1:\\t\\t\\tMatrix m3:')\n",
    "print(m1[0,:],'\\t\\t\\t',m3[0,:])\n",
    "print(m1[1,:],'\\t\\t\\t',m3[1,:])\n",
    "print('\\nMatrix Addition: m1 + m3')\n",
    "print(np.add(m1,m3))\n",
    "\n"
   ]
  },
  {
   "cell_type": "markdown",
   "metadata": {},
   "source": [
    "#### 18. Form the matrix m4 by concatenating (as a new row) the vector [me1, me2] with the matrix m1, where me1 and me2 are the mean values of each column on m1."
   ]
  },
  {
   "cell_type": "code",
   "execution_count": 53,
   "metadata": {},
   "outputs": [
    {
     "name": "stdout",
     "output_type": "stream",
     "text": [
      "Matrix m1:\n",
      "[[50 34]\n",
      " [34 65]]\n",
      "\n",
      "Matrix m1_Mean:\n",
      "[42.  49.5]\n",
      "\n",
      "Shape of m1_Mean matrix: (2,)\n",
      "\n",
      "m1_Mean matrix is Reshaped to: (1, 2)\n",
      "\n",
      "Concat matrices m1 and m1_Mean to get matrix m4:\n",
      " [[50.  34. ]\n",
      " [34.  65. ]\n",
      " [42.  49.5]]\n"
     ]
    }
   ],
   "source": [
    "# Solution\n",
    "print('Matrix m1:')\n",
    "print(m1)\n",
    "\n",
    "m1_Mean = np.mean(m1,axis=1)\n",
    "print('\\nMatrix m1_Mean:')\n",
    "print(m1_Mean)\n",
    "print('\\nShape of m1_Mean matrix:',m1_Mean.shape)\n",
    "m1_Mean = m1_Mean.reshape(1,2)\n",
    "print('\\nm1_Mean matrix is Reshaped to:',m1_Mean.shape)\n",
    "\n",
    "m4 = np.concatenate((m1, m1_Mean), axis=0)\n",
    "print('\\nConcat matrices m1 and m1_Mean to get matrix m4:\\n',m4)\n",
    "\n"
   ]
  },
  {
   "cell_type": "markdown",
   "metadata": {},
   "source": [
    "#### 19. Perform the matrix multiplication between m3 and m4"
   ]
  },
  {
   "cell_type": "code",
   "execution_count": 54,
   "metadata": {},
   "outputs": [
    {
     "name": "stdout",
     "output_type": "stream",
     "text": [
      "Matrix m3:\t\tMatrix m4:\t\tTransposed Matrix m4:\n",
      "[6 5] \t\t\t [50. 34.] \t\t [50. 34. 42.]\n",
      "[8 5] \t\t\t [34. 65.] \t\t [34.  65.  49.5]\n",
      "\t\t\t [42.  49.5]\n",
      "\n",
      "Matrix Multiplication: m3 * m4.T\n",
      "[[470.  529.  499.5]\n",
      " [570.  597.  583.5]]\n"
     ]
    }
   ],
   "source": [
    "# Solution\n",
    "m4_temp = m4\n",
    "m4 = m4.T\n",
    "print('Matrix m3:\\t\\tMatrix m4:\\t\\tTransposed Matrix m4:')\n",
    "print(m3[0,:],'\\t\\t\\t',m4_temp[0,:],'\\t\\t',m4[0,:])\n",
    "print(m3[1,:],'\\t\\t\\t',m4_temp[1,:],'\\t\\t',m4[1,:])\n",
    "print('\\t\\t\\t',m4_temp[2,:])\n",
    "\n",
    "print('\\nMatrix Multiplication: m3 * m4.T')\n",
    "print(np.dot(m3,m4))\n"
   ]
  },
  {
   "cell_type": "markdown",
   "metadata": {},
   "source": [
    "#### 20. Compute the maximum and minimum value of mean, variance, standard deviation for each row of matrix created in question number 8."
   ]
  },
  {
   "cell_type": "code",
   "execution_count": 55,
   "metadata": {},
   "outputs": [
    {
     "name": "stdout",
     "output_type": "stream",
     "text": [
      "Original Matrix:\n",
      " [[ 9 25 50 34 45]\n",
      " [ 3 34 34 65  2]\n",
      " [ 5  7  3 76  3]\n",
      " [ 7  8  6  5  6]\n",
      " [23 12  8  5  8]]\n",
      "\n",
      "\t\t\t Min\t\t Max\n",
      "\n",
      "Mean\t\t\t 6.4 \t\t 32.6\n",
      "Standard Deviation\t 1.02 \t\t 28.64\n",
      "Variance\t\t 1.04 \t\t 820.16\n"
     ]
    }
   ],
   "source": [
    "# Solution\n",
    "print('Original Matrix:\\n',matrix1)\n",
    "\n",
    "print('\\n\\t\\t\\t Min\\t\\t Max')\n",
    "print('\\nMean\\t\\t\\t',np.ndarray.mean(matrix1,axis=1).min(),'\\t\\t',np.ndarray.mean(matrix1,axis=1).max())\n",
    "print('Standard Deviation\\t',np.ndarray.std(matrix1,axis=1).min().round(2),'\\t\\t',np.ndarray.std(matrix1,axis=1).max().round(2))\n",
    "print('Variance\\t\\t',np.ndarray.var(matrix1,axis=1).min().round(4),'\\t\\t',np.ndarray.var(matrix1,axis=1).max().round(4))\n",
    "\n",
    "\n",
    "\n"
   ]
  },
  {
   "cell_type": "markdown",
   "metadata": {},
   "source": [
    "#### 21. Compute the average and strike rate for each player and sort it decending way (seperately for avg and strike rate)\n",
    "<img src = 'crick1.png'>"
   ]
  },
  {
   "cell_type": "code",
   "execution_count": 57,
   "metadata": {},
   "outputs": [
    {
     "name": "stdout",
     "output_type": "stream",
     "text": [
      "Runs Scored in 4 Matches:\n",
      " [['MSD' '54' '60' '10' '65']\n",
      " ['Kholi' '102' '2' '78' '32']\n",
      " ['Rohit' '3' '110' '1' '92']\n",
      " ['Rahul' '56' '6' '12' '42']\n",
      " ['Dhawan' '12' '8' '22' '11']]\n",
      "\n",
      "Balls Faced in 4 Matches:\n",
      " [['MSD' '50' '42' '22' '78']\n",
      " ['Kholi' '95' '8' '65' '43']\n",
      " ['Rohit' '9' '100' '7' '101']\n",
      " ['Rahul' '27' '3' '11' '31']\n",
      " ['Dhawan' '24' '20' '36' '27']]\n",
      "\n",
      "Average Runs Scored by Players:\n",
      " [['MSD' '47.25']\n",
      " ['Kholi' '53.5']\n",
      " ['Rohit' '51.5']\n",
      " ['Rahul' '29.0']\n",
      " ['Dhawan' '13.25']]\n",
      "\n",
      "Players Average in Descending order:\n",
      " [['Kholi' '53.5']\n",
      " ['Rohit' '51.5']\n",
      " ['MSD' '47.25']\n",
      " ['Rahul' '29.0']\n",
      " ['Dhawan' '13.25']]\n",
      "\n",
      "Strike Rate for each Players:\n",
      " [['MSD' '98.44']\n",
      " ['Kholi' '101.42']\n",
      " ['Rohit' '94.93']\n",
      " ['Rahul' '161.11']\n",
      " ['Dhawan' '49.53']]\n",
      "\n",
      "Strike Rate for Players in Descending order:\n",
      " [['Rahul' '161.11']\n",
      " ['Kholi' '101.42']\n",
      " ['MSD' '98.44']\n",
      " ['Rohit' '94.93']\n",
      " ['Dhawan' '49.53']]\n"
     ]
    }
   ],
   "source": [
    "# Solution \n",
    "import numpy as np\n",
    "\n",
    "runs_scored = np.array([['MSD',54,60,10,65],\n",
    "                       ['Kholi',102,2,78,32],\n",
    "                       ['Rohit',3,110,1,92],\n",
    "                       ['Rahul',56,6,12,42],\n",
    "                       ['Dhawan',12,8,22,11]])\n",
    "print('Runs Scored in 4 Matches:\\n',runs_scored)\n",
    "\n",
    "balls_faced = np.array([['MSD',50,42,22,78],\n",
    "                       ['Kholi',95,8,65,43],\n",
    "                       ['Rohit',9,100,7,101],\n",
    "                       ['Rahul',27,3,11,31],\n",
    "                       ['Dhawan',24,20,36,27]])\n",
    "print('\\nBalls Faced in 4 Matches:\\n',balls_faced)\n",
    "\n",
    "\n",
    "# temp array to store runs_scored and balls_faced as float values\n",
    "\n",
    "player_runs = (runs_scored[0:,1:]).astype(float)\n",
    "balls_count = (balls_faced[0:,1:]).astype(float)\n",
    "\n",
    "\n",
    "# finding Average for each player, shaping to 5,1 matrix and \n",
    "# concating to first column of 'runs_scored' np array\n",
    "Average_runs = np.ndarray.mean(player_runs,axis = 1)\n",
    "Average_runs = Average_runs.reshape(5,1)\n",
    "runs_average = np.concatenate((runs_scored[0:,0].reshape(5,1),Average_runs.astype(float)),axis = 1)\n",
    "print('\\nAverage Runs Scored by Players:\\n',runs_average)\n",
    "\n",
    "#convert the 'runs_average' list into array and \n",
    "#use sorted function to sort Players Average in descending order\n",
    "runs_average = np.array(runs_average)\n",
    "runs_average = np.array(sorted(runs_average,key=lambda x:float(x[1]),reverse = True))\n",
    "\n",
    "print('\\nPlayers Average in Descending order:\\n',runs_average)\n",
    "\n",
    "\n",
    "# finding Strike rate for each player, shaping to 5,1 matrix \n",
    "# and concating to first column of 'runs_scored' np array\n",
    "Total_runs = np.ndarray.sum(player_runs,axis = 1)\n",
    "Total_runs = Total_runs.reshape(5,1)\n",
    "\n",
    "Total_balls = np.ndarray.sum(balls_count,axis = 1)\n",
    "Total_balls = Total_balls.reshape(5,1)\n",
    "\n",
    "Strike = ((Total_runs.astype(float)/Total_balls.astype(float)) * 100).round(2)\n",
    "Strike = np.array(Strike)\n",
    "           \n",
    "Strike_rate = np.concatenate((balls_faced[0:,0].reshape(5,1),Strike.astype(float)),axis = 1)\n",
    "print('\\nStrike Rate for each Players:\\n',Strike_rate)\n",
    "\n",
    "#convert the 'Strike_rate' list into array and \n",
    "#use sorted function to sort Players Strike_rate in descending order\n",
    "Strike_rate = np.array(Strike_rate)\n",
    "Strike_rate = np.array(sorted(Strike_rate,key=lambda x:float(x[1]),reverse = True))\n",
    "\n",
    "print('\\nStrike Rate for Players in Descending order:\\n',Strike_rate)"
   ]
  },
  {
   "cell_type": "markdown",
   "metadata": {},
   "source": [
    "#### 22. The students mark was recorded in a numpy array: marks = np.array([65,84,47,56,89,98,48,77,80,39]).  Cutoff for pass is 50 marks. Write the logic to print the number of students passed and failed. "
   ]
  },
  {
   "cell_type": "code",
   "execution_count": 58,
   "metadata": {},
   "outputs": [
    {
     "name": "stdout",
     "output_type": "stream",
     "text": [
      "Total no. of Students: 10\n",
      "No. of Students Passed: 7\n",
      "No. of Students yet to Pass: 3\n"
     ]
    }
   ],
   "source": [
    "# Solution\n",
    "\n",
    "marks=np.array([65,84,47,56,89,98,48,77,80,39])\n",
    "passed = ((marks[:] >= 50).sum())\n",
    "print('Total no. of Students:',len(marks))\n",
    "print('No. of Students Passed:',passed)\n",
    "print('No. of Students yet to Pass:',len(marks) - passed)"
   ]
  },
  {
   "cell_type": "markdown",
   "metadata": {},
   "source": [
    "#### 23. The class incharge decided to give a mercy mark of 5 for those who scored between 45 and 49. Also the bonus of 5 marks awarded to the students who scored more than 80. Print all the student marks and compute the increase in the pass percentage of class. Any score more than 100 must be recorded as only 100."
   ]
  },
  {
   "cell_type": "code",
   "execution_count": 59,
   "metadata": {},
   "outputs": [
    {
     "name": "stdout",
     "output_type": "stream",
     "text": [
      "Students Original Mark list: [65 84 47 56 89 98 48 77 80 39]\n",
      "Students Marks after adding grace marks: [ 65  89  52  56  94 100  53  77  80  39]\n"
     ]
    }
   ],
   "source": [
    "# Solution\n",
    "\n",
    "print('Students Original Mark list:',marks)\n",
    "gracelist = np.where((marks > 44) & (marks < 50))\n",
    "marks[gracelist] = marks[gracelist] + 5\n",
    "\n",
    "a_gradelist = np.where((marks > 80) & (marks < 95))\n",
    "marks[a_gradelist] =  marks[a_gradelist] + 5\n",
    "\n",
    "o_gradelist = np.where((marks > 94))\n",
    "marks[o_gradelist] =  100\n",
    "print('Students Marks after adding grace marks:',marks)\n",
    "\n"
   ]
  },
  {
   "cell_type": "markdown",
   "metadata": {},
   "source": [
    "#### 24. Print the time taken for performing the following operation using list and numpy array\n",
    "####       (x(i)^2 +8) / y(i),   where x and y are real integers from 1 to 60000"
   ]
  },
  {
   "cell_type": "code",
   "execution_count": 60,
   "metadata": {},
   "outputs": [
    {
     "name": "stdout",
     "output_type": "stream",
     "text": [
      "Time taken to execute given Function using list: 39.98422622680664\n",
      "\n",
      "Time taken to execute given Function using Numpy array: 37.1861457824707\n"
     ]
    }
   ],
   "source": [
    "import numpy as np\n",
    "import sys \n",
    "import time\n",
    "\n",
    "#Executing funciton using LIST\n",
    "\n",
    "xlist = range(1,60001)\n",
    "ylist = range(1,60001)\n",
    "\n",
    "start_listtime = time.time()\n",
    "\n",
    "result_list = [((xlist[i]**2 + 8)/ylist[i]) for i in range(0,60000)]\n",
    "end_listtime = time.time()\n",
    "\n",
    "print('Time taken to execute given Function using list:',(end_listtime - start_listtime) * 1000)\n",
    "\n",
    "\n",
    "#Executing function using NUMPY Array\n",
    "\n",
    "x_range = np.arange(1,60001)\n",
    "y_range = np.arange(1,60001)\n",
    "\n",
    "start_npytime = time.time()\n",
    "\n",
    "result_npy = [((x_range[i].astype(np.int64)**2 + 8)/y_range[i].astype(np.int64)) for i in range(0,60000)]\n",
    "end_npytime = time.time()\n",
    "\n",
    "print('\\nTime taken to execute given Function using Numpy array:',(end_npytime - start_npytime) * 1000)\n"
   ]
  },
  {
   "cell_type": "markdown",
   "metadata": {},
   "source": [
    "#### 25. Create a Github account and upload your solution with the short write-up on Numpy"
   ]
  },
  {
   "cell_type": "code",
   "execution_count": 73,
   "metadata": {},
   "outputs": [
    {
     "name": "stdout",
     "output_type": "stream",
     "text": [
      "Find the Soluition of the Lab Exercise in the following link in GITHUB :\n",
      "https://github.com/botaiguru/SRM\n",
      "\n",
      "NUMPY in Python\n",
      "================\n",
      "\n",
      "NumPy is a Numerical library for Python programming language that supports large, multi-dimensional arrays and matrices, enabling numerous high level mathematical functions to manipulate data stored in arrays.\n",
      "\n",
      "NumPy is an Open-source software that has gone through several modifications since its inception in 1995 by several of its contributors who designed & developed it until 2005 and then released another version in 2006 as well.\n",
      "\n",
      "NumPy uses non-optimizing bytecode interpreter which is slower than some compiler equivalents. However, NumPy enables multi-dimensional array functionalities with \"ndarray\" for n-dimensional array data structure.\n",
      "\n",
      "Unlike Python’s Lists, inserting or appending entries into a NumPy array is unlikely and the system gets around these operations by creating new copy of the arrays in operation. Using NumPy for vectorization may also increase memory complexity as copies of input data are created for data manipulation. Other open-source solutions are available to overcome such problems of NumPy.\n",
      "\n"
     ]
    }
   ],
   "source": [
    "# A Github account was created and the solution was uploaded in the following site location\n",
    "# https://github.com/botaiguru/SRM\n",
    "\n",
    "# Github A/C name: botaiguru\n",
    "\n",
    "# About Numpy\n",
    "print('Find the Soluition of the Lab Exercise in the following link in GITHUB :')\n",
    "print('https://github.com/botaiguru/SRM')\n",
    "\n",
    "print(\"\\nNUMPY in Python\")\n",
    "print(\"================\")\n",
    "print('\\nNumPy is a Numerical library for Python programming language that supports large, multi-dimensional arrays and matrices, enabling numerous high level mathematical functions to manipulate data stored in arrays.')\n",
    "\n",
    "print('\\nNumPy is an Open-source software that has gone through several modifications since its inception in 1995 by several of its contributors who designed & developed it until 2005 and then released another version in 2006 as well.')\n",
    "\n",
    "print('\\nNumPy uses non-optimizing bytecode interpreter which is slower than some compiler equivalents. However, NumPy enables multi-dimensional array functionalities with \"ndarray\" for n-dimensional array data structure.')\n",
    "\n",
    "print('\\nUnlike Python’s Lists, inserting or appending entries into a NumPy array is unlikely and the system gets around these operations by creating new copy of the arrays in operation. Using NumPy for vectorization may also increase memory complexity as copies of input data are created for data manipulation. Other open-source solutions are available to overcome such problems of NumPy.\\n')\n",
    "\n"
   ]
  },
  {
   "cell_type": "code",
   "execution_count": null,
   "metadata": {},
   "outputs": [],
   "source": []
  }
 ],
 "metadata": {
  "kernelspec": {
   "display_name": "Python 3",
   "language": "python",
   "name": "python3"
  },
  "language_info": {
   "codemirror_mode": {
    "name": "ipython",
    "version": 3
   },
   "file_extension": ".py",
   "mimetype": "text/x-python",
   "name": "python",
   "nbconvert_exporter": "python",
   "pygments_lexer": "ipython3",
   "version": "3.8.8"
  }
 },
 "nbformat": 4,
 "nbformat_minor": 2
}
